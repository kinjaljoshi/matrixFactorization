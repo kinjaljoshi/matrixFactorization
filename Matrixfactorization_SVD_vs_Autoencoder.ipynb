{
  "cells": [
    {
      "cell_type": "code",
      "execution_count": 58,
      "metadata": {
        "colab": {
          "base_uri": "https://localhost:8080/"
        },
        "id": "V8NSZFz60E_m",
        "outputId": "45d2dcd2-17dd-4570-aac6-f5c549344663"
      },
      "outputs": [
        {
          "output_type": "stream",
          "name": "stdout",
          "text": [
            "User latent factors (U):\n",
            "[[-0.05  0.54 -0.54]\n",
            " [-0.39 -0.24 -0.72]\n",
            " [ 0.39 -0.53 -0.38]\n",
            " [ 0.56  0.54 -0.2 ]\n",
            " [ 0.61 -0.27 -0.09]]\n",
            "\n",
            "Singular values (Sigma):\n",
            "[[4.86 0.   0.  ]\n",
            " [0.   6.33 0.  ]\n",
            " [0.   0.   8.14]]\n",
            "\n",
            "Item latent factors (V^T):\n",
            "[[-0.38  0.54  0.75 -0.08]\n",
            " [ 0.28  0.69 -0.42 -0.53]\n",
            " [-0.69 -0.32 -0.18 -0.63]]\n",
            "\n",
            "Original matrix (R):\n",
            "[[5. 3. 0. 0.]\n",
            " [4. 0. 0. 5.]\n",
            " [0. 0. 3. 4.]\n",
            " [0. 5. 0. 0.]\n",
            " [0. 0. 4. 0.]]\n",
            "\n",
            "Reconstructed matrix (R):\n",
            "[[ 4.05  3.62 -0.82  0.96]\n",
            " [ 4.33 -0.22  0.29  4.66]\n",
            " [ 0.45 -0.3   3.39  3.54]\n",
            " [ 1.02  4.34  0.88 -1.03]\n",
            " [-1.08  0.71  3.06  1.1 ]]\n"
          ]
        }
      ],
      "source": [
        "import pandas as pd\n",
        "import numpy as np\n",
        "from scipy.sparse.linalg import svds\n",
        "\n",
        "# Sample dataset\n",
        "data = np.array([\n",
        "    [5, 3, 0, 0],\n",
        "    [4, 0, 0, 5],\n",
        "    [0, 0, 3, 4],\n",
        "    [0, 5, 0, 0],\n",
        "    [0, 0, 4, 0]\n",
        "],dtype=float)\n",
        "\n",
        "data_n = data / 5.0\n",
        "\n",
        "# Perform SVD\n",
        "U, sigma, Vt = svds(data, k=3)\n",
        "\n",
        "# Convert sigma into a diagonal matrix\n",
        "sigma = np.diag(sigma)\n",
        "\n",
        "# Print the resulting matrices\n",
        "print(\"User latent factors (U):\")\n",
        "print(np.round(U, 2))\n",
        "print(\"\\nSingular values (Sigma):\")\n",
        "print(np.round(sigma, 2))\n",
        "print(\"\\nItem latent factors (V^T):\")\n",
        "print(np.round(Vt, 2))\n",
        "\n",
        "print(\"\\nOriginal matrix (R):\")\n",
        "print(np.round(data, 2))\n",
        "\n",
        "reconstructed_R = np.dot(np.dot(U, sigma), Vt)\n",
        "print(\"\\nReconstructed matrix (R):\")\n",
        "print(np.round(reconstructed_R, 2))"
      ]
    },
    {
      "cell_type": "code",
      "execution_count": 59,
      "metadata": {
        "colab": {
          "base_uri": "https://localhost:8080/"
        },
        "id": "fSj70GIAECKj",
        "outputId": "640f23bd-be99-4e08-813f-f952dc0dfbff"
      },
      "outputs": [
        {
          "output_type": "execute_result",
          "data": {
            "text/plain": [
              "<keras.src.callbacks.history.History at 0x79a69d783f10>"
            ]
          },
          "metadata": {},
          "execution_count": 59
        }
      ],
      "source": [
        "from keras.layers import Input, Dense\n",
        "from keras.models import Model\n",
        "\n",
        "#normalize the data\n",
        "data_n = data / 5.0\n",
        "\n",
        "#define input layer\n",
        "input_layer = Input(shape=(data_n.shape[1],))\n",
        "\n",
        "#encode the layer to 3 latent factors\n",
        "encoding_layer = Dense(3, activation='tanh')(input_layer)\n",
        "\n",
        "#decode\n",
        "decoding_layer = Dense(data_n.shape[1], activation='sigmoid')(encoding_layer)\n",
        "\n",
        "#define model\n",
        "autoencoder = Model(input_layer, decoding_layer)\n",
        "\n",
        "autoencoder.compile(optimizer='adam', loss='mse')\n",
        "\n",
        "autoencoder.fit(data_n, data_n, epochs=1000, batch_size=2,verbose=0)\n"
      ]
    },
    {
      "cell_type": "code",
      "execution_count": 60,
      "metadata": {
        "colab": {
          "base_uri": "https://localhost:8080/"
        },
        "id": "paebiy-NEiOb",
        "outputId": "4c616b37-3b12-43d7-8a64-f28f6cf9f768"
      },
      "outputs": [
        {
          "output_type": "stream",
          "name": "stdout",
          "text": [
            "\u001b[1m1/1\u001b[0m \u001b[32m━━━━━━━━━━━━━━━━━━━━\u001b[0m\u001b[37m\u001b[0m \u001b[1m0s\u001b[0m 53ms/step\n",
            "Lower dimension representation\n",
            "[[ 0.99999964  0.18238753  0.99992496]\n",
            " [-0.03884642 -1.          1.        ]\n",
            " [-0.99999785 -0.97128886 -0.7388996 ]\n",
            " [ 1.          0.99999964 -0.7738645 ]\n",
            " [-0.99999917  0.99708664 -0.9999854 ]]\n",
            "Original data\n",
            "[[5. 3. 0. 0.]\n",
            " [4. 0. 0. 5.]\n",
            " [0. 0. 3. 4.]\n",
            " [0. 5. 0. 0.]\n",
            " [0. 0. 4. 0.]]\n",
            "\u001b[1m1/1\u001b[0m \u001b[32m━━━━━━━━━━━━━━━━━━━━\u001b[0m\u001b[37m\u001b[0m \u001b[1m0s\u001b[0m 61ms/step\n",
            "reconstructed data\n",
            "[[3.7 3.3 0.3 0.9]\n",
            " [4.2 0.4 0.8 4.7]\n",
            " [1.  0.4 3.2 3.5]\n",
            " [1.3 4.4 0.8 0.1]\n",
            " [0.2 0.7 3.8 0.8]]\n"
          ]
        }
      ],
      "source": [
        "#lower dimension representation\n",
        "# Use the encoder to obtain the lower-dimensional representation\n",
        "encoder = Model(input_layer, encoding_layer)\n",
        "encoded_data = encoder.predict(data)\n",
        "print('Lower dimension representation')\n",
        "print(encoded_data)\n",
        "#original data\n",
        "print('Original data')\n",
        "print(data)\n",
        "#use autoencoder to get lower dimension representation\n",
        "reconstructed_data = autoencoder.predict(data_n) * 5\n",
        "print('reconstructed data')\n",
        "print(np.round(reconstructed_data,1))"
      ]
    },
    {
      "cell_type": "markdown",
      "source": [
        "Lets create a sparse matrix for represneting missing user/item ratings"
      ],
      "metadata": {
        "id": "qwlEFRd-Le29"
      }
    },
    {
      "cell_type": "code",
      "source": [
        "import numpy as np\n",
        "\n",
        "# Create a random 20x20 matrix with values representing user-item ratings\n",
        "np.random.seed(42)  # For reproducibility\n",
        "user_item = np.random.randint(1, 11, size=(10, 10)).astype(float)  # Ratings between 1 and 10\n",
        "\n",
        "# Introduce missing values (NaN) to simulate unavailable ratings\n",
        "num_missing_values = 50  # Define how many values to remove\n",
        "indices = np.random.choice(user_item.size, num_missing_values, replace=False)  # Randomly select indices\n",
        "\n",
        "# Set these indices to NaN to represent missing values\n",
        "user_item.ravel()[indices] = np.nan\n",
        "\n",
        "user_item = np.nan_to_num(user_item, nan=0.0)\n",
        "\n",
        "# Print the generated matrix with missing values\n",
        "print(\"Generated 20x20 matrix with missing values (0 representing unavailable ratings):\")\n",
        "print(user_item)\n",
        "\n"
      ],
      "metadata": {
        "colab": {
          "base_uri": "https://localhost:8080/"
        },
        "id": "G4fJwT4YLjKz",
        "outputId": "50f42305-8c92-46d8-8122-df9ca5d34c9e"
      },
      "execution_count": 34,
      "outputs": [
        {
          "output_type": "stream",
          "name": "stdout",
          "text": [
            "Generated 20x20 matrix with missing values (NaN representing unavailable ratings):\n",
            "[[ 7.  4.  8.  5.  7. 10.  0.  0.  8.  0.]\n",
            " [ 0.  8.  8.  3.  6.  0.  0.  0.  0.  2.]\n",
            " [ 0.  1. 10.  0.  0.  0. 10.  3.  7.  0.]\n",
            " [ 0.  3.  5.  3.  7.  5.  9.  0.  0.  0.]\n",
            " [ 0.  2. 10.  9. 10.  0.  2.  4.  0.  0.]\n",
            " [ 3.  1.  4.  0.  8.  0.  2.  6.  6.  0.]\n",
            " [ 0.  6.  2.  0.  2.  0.  0.  0.  0.  0.]\n",
            " [ 0.  0.  0.  0.  0. 10.  9.  9.  1.  9.]\n",
            " [ 0.  0.  0.  0.  0.  8.  3.  1.  0.  0.]\n",
            " [ 0.  1.  0.  0.  7. 10.  0.  0.  0.  0.]]\n"
          ]
        }
      ]
    },
    {
      "cell_type": "code",
      "source": [
        "# Perform SVD\n",
        "U_user, sigma_weight, Vt_items = svds(user_item, k=5)\n",
        "\n",
        "# Convert sigma into a diagonal matrix\n",
        "sigma_weight = np.diag(sigma_weight)\n",
        "\n",
        "# Print the resulting matrices\n",
        "print(\"User latent factors (U):\")\n",
        "print(np.round(U_user, 2))\n",
        "print(\"\\nSingular values (Sigma):\")\n",
        "print(np.round(sigma_weight, 2))\n",
        "print(\"\\nItem latent factors (V^T):\")\n",
        "print(np.round(Vt_items, 2))\n",
        "\n",
        "print(\"\\nOriginal matrix (R):\")\n",
        "print(np.round(user_item, 2))\n",
        "\n",
        "reconstructed_data = np.dot(np.dot(U_user, sigma_weight), Vt_items)\n",
        "print(\"\\nReconstructed matrix (R):\")\n",
        "print(np.round(reconstructed_data, 1))"
      ],
      "metadata": {
        "colab": {
          "base_uri": "https://localhost:8080/"
        },
        "id": "8NYDTVmWMpYk",
        "outputId": "47746297-bea1-4c5e-87d7-9c3f0fae741a"
      },
      "execution_count": 61,
      "outputs": [
        {
          "output_type": "stream",
          "name": "stdout",
          "text": [
            "User latent factors (U):\n",
            "[[-0.06 -0.59  0.43 -0.09  0.49]\n",
            " [-0.21  0.3   0.01 -0.34  0.29]\n",
            " [-0.33 -0.38 -0.67  0.04  0.33]\n",
            " [-0.41  0.29 -0.05  0.06  0.37]\n",
            " [ 0.33  0.43 -0.08 -0.38  0.42]\n",
            " [ 0.63 -0.25 -0.12 -0.1   0.3 ]\n",
            " [-0.2   0.12  0.04 -0.14  0.1 ]\n",
            " [ 0.27  0.25 -0.16  0.75  0.3 ]\n",
            " [-0.23 -0.01  0.19  0.32  0.13]\n",
            " [-0.04  0.1   0.53  0.18  0.22]]\n",
            "\n",
            "Singular values (Sigma):\n",
            "[[ 9.49  0.    0.    0.    0.  ]\n",
            " [ 0.   11.49  0.    0.    0.  ]\n",
            " [ 0.    0.   15.38  0.    0.  ]\n",
            " [ 0.    0.    0.   19.42  0.  ]\n",
            " [ 0.    0.    0.    0.   33.43]]\n",
            "\n",
            "Item latent factors (V^T):\n",
            "[[ 0.16 -0.36 -0.22  0.09  0.33 -0.23 -0.35  0.66  0.14  0.21]\n",
            " [-0.42  0.18 -0.09  0.24  0.26 -0.08  0.13  0.12 -0.75  0.25]\n",
            " [ 0.17  0.09 -0.31  0.08  0.31  0.6  -0.55 -0.28 -0.14 -0.09]\n",
            " [-0.05 -0.22 -0.37 -0.24 -0.3   0.58  0.4   0.26 -0.01  0.31]\n",
            " [ 0.13  0.23  0.51  0.25  0.48  0.39  0.33  0.22  0.25  0.1 ]]\n",
            "\n",
            "Original matrix (R):\n",
            "[[ 7.  4.  8.  5.  7. 10.  0.  0.  8.  0.]\n",
            " [ 0.  8.  8.  3.  6.  0.  0.  0.  0.  2.]\n",
            " [ 0.  1. 10.  0.  0.  0. 10.  3.  7.  0.]\n",
            " [ 0.  3.  5.  3.  7.  5.  9.  0.  0.  0.]\n",
            " [ 0.  2. 10.  9. 10.  0.  2.  4.  0.  0.]\n",
            " [ 3.  1.  4.  0.  8.  0.  2.  6.  6.  0.]\n",
            " [ 0.  6.  2.  0.  2.  0.  0.  0.  0.  0.]\n",
            " [ 0.  0.  0.  0.  0. 10.  9.  9.  1.  9.]\n",
            " [ 0.  0.  0.  0.  0.  8.  3.  1.  0.  0.]\n",
            " [ 0.  1.  0.  0.  7. 10.  0.  0.  0.  0.]]\n",
            "\n",
            "Reconstructed matrix (R):\n",
            "[[ 6.1  3.8  7.7  3.3  8.4 10.   0.5  0.1  8.1 -1.3]\n",
            " [-0.2  5.   7.4  4.6  7.   0.2  1.6 -0.6 -0.4 -0.7]\n",
            " [ 1.   1.8  9.5  0.4 -0.3 -0.3 10.2  2.9  7.   0.5]\n",
            " [-0.7  4.5  6.6  3.1  4.9  5.6  6.8  1.   0.1  1.7]\n",
            " [ 0.3  4.5  9.1  6.6 10.9 -0.7  2.   4.1  0.5  1.1]\n",
            " [ 3.2 -0.1  5.3  2.6  6.   0.6  1.1  5.8  5.7  1.1]\n",
            " [-0.2  2.4  2.8  1.7  2.3  0.4  0.6 -1.3 -0.5 -0.6]\n",
            " [-0.6 -1.6 -0.4 -0.4  1.3 10.1 10.   8.8  0.8  7.1]\n",
            " [ 0.5  0.7 -0.4 -0.4  0.4  7.5  3.1  0.3  0.4  1.6]\n",
            " [ 1.6  2.  -0.   1.9  5.3  9.9 -0.4  0.2 -0.3  1.3]]\n"
          ]
        }
      ]
    },
    {
      "cell_type": "code",
      "source": [
        "from keras.layers import Input, Dense\n",
        "from keras.models import Model\n",
        "\n",
        "#normalize user_item\n",
        "user_item_n = user_item / 10.0\n",
        "\n",
        "input_layer = Input(shape=(user_item_n.shape[1],))\n",
        "\n",
        "#encode the layer to 3 latent factors\n",
        "encoding_layer = Dense(5, activation='tanh')(input_layer)\n",
        "\n",
        "#decode\n",
        "decoding_layer = Dense(user_item_n.shape[1], activation='sigmoid')(encoding_layer)\n",
        "\n",
        "#define model\n",
        "autoencoder = Model(input_layer, decoding_layer)\n",
        "\n",
        "autoencoder.compile(optimizer='adam', loss='mse')\n",
        "\n",
        "autoencoder.fit(user_item_n, user_item_n, epochs=1000, batch_size=4,verbose=0)\n",
        "\n",
        "reconstructed_data = autoencoder.predict(user_item_n) * 10\n",
        "print('reconstructed data')\n",
        "print(np.round(reconstructed_data,1))\n"
      ],
      "metadata": {
        "colab": {
          "base_uri": "https://localhost:8080/"
        },
        "id": "TDEpTWRlNZZy",
        "outputId": "766a6ed0-efeb-4e1f-e58c-9edd645514ed"
      },
      "execution_count": 46,
      "outputs": [
        {
          "output_type": "execute_result",
          "data": {
            "text/plain": [
              "<keras.src.callbacks.history.History at 0x79a69b8053f0>"
            ]
          },
          "metadata": {},
          "execution_count": 46
        }
      ]
    },
    {
      "cell_type": "code",
      "source": [
        "encoder = Model(input_layer, encoding_layer)\n",
        "encoded_data = encoder.predict(user_item_n)\n",
        "print('Lower dimension representation')\n",
        "print(encoded_data)\n",
        "#original data\n",
        "print('Original data')\n",
        "print(user_item)\n",
        "#use autoencoder to get lower dimension representation\n",
        "reconstructed_data = autoencoder.predict(user_item_n) * 10\n",
        "print('reconstructed data')\n",
        "print(np.round(reconstructed_data,1))"
      ],
      "metadata": {
        "colab": {
          "base_uri": "https://localhost:8080/"
        },
        "id": "Xc9mFbXtOBM2",
        "outputId": "16f714a5-a76b-4731-c8bb-b18c448aa2ec"
      },
      "execution_count": 47,
      "outputs": [
        {
          "output_type": "stream",
          "name": "stdout",
          "text": [
            "\u001b[1m1/1\u001b[0m \u001b[32m━━━━━━━━━━━━━━━━━━━━\u001b[0m\u001b[37m\u001b[0m \u001b[1m0s\u001b[0m 37ms/step\n",
            "Lower dimension representation\n",
            "[[-0.48024788  0.67335963  0.17243196 -0.31488127 -0.9798216 ]\n",
            " [-0.91600406  0.27495766  0.6429624   0.9140307   0.18351303]\n",
            " [-0.72465414  0.03569224  0.91072655 -0.9667925   0.89887357]\n",
            " [-0.4745828  -0.5723395   0.8958237   0.08178291  0.4914223 ]\n",
            " [-0.974562   -0.15137216 -0.20821458  0.8228244   0.7921172 ]\n",
            " [-0.85846317 -0.85498154 -0.5042633  -0.3900629  -0.21004905]\n",
            " [-0.58132887 -0.39902332  0.7733504   0.8310442  -0.31509763]\n",
            " [ 0.96280134 -0.98203486  0.43898824 -0.7220377   0.8308267 ]\n",
            " [ 0.7797876  -0.78616387  0.9058016   0.26461664 -0.5912529 ]\n",
            " [ 0.40184987 -0.84573287  0.78622895  0.85611105 -0.92317677]]\n",
            "Original data\n",
            "[[ 7.  4.  8.  5.  7. 10.  0.  0.  8.  0.]\n",
            " [ 0.  8.  8.  3.  6.  0.  0.  0.  0.  2.]\n",
            " [ 0.  1. 10.  0.  0.  0. 10.  3.  7.  0.]\n",
            " [ 0.  3.  5.  3.  7.  5.  9.  0.  0.  0.]\n",
            " [ 0.  2. 10.  9. 10.  0.  2.  4.  0.  0.]\n",
            " [ 3.  1.  4.  0.  8.  0.  2.  6.  6.  0.]\n",
            " [ 0.  6.  2.  0.  2.  0.  0.  0.  0.  0.]\n",
            " [ 0.  0.  0.  0.  0. 10.  9.  9.  1.  9.]\n",
            " [ 0.  0.  0.  0.  0.  8.  3.  1.  0.  0.]\n",
            " [ 0.  1.  0.  0.  7. 10.  0.  0.  0.  0.]]\n",
            "\u001b[1m1/1\u001b[0m \u001b[32m━━━━━━━━━━━━━━━━━━━━\u001b[0m\u001b[37m\u001b[0m \u001b[1m0s\u001b[0m 44ms/step\n",
            "reconstructed data\n",
            "[[7.4 5.3 6.9 3.3 5.4 6.9 1.2 0.6 8.1 0.7]\n",
            " [0.5 6.4 7.9 4.9 6.5 1.1 1.4 0.4 0.8 0.4]\n",
            " [0.7 1.4 9.  1.9 2.2 2.  9.2 2.9 6.2 1.4]\n",
            " [0.2 1.6 5.1 1.4 4.1 2.4 6.1 1.7 0.9 0.8]\n",
            " [0.6 5.1 7.7 6.2 8.  0.3 2.5 3.9 1.1 1.4]\n",
            " [2.9 1.6 4.  1.9 8.5 1.8 2.8 5.7 5.9 1.2]\n",
            " [0.4 4.  3.6 1.9 6.6 3.  1.1 0.4 0.5 0.3]\n",
            " [0.6 0.3 1.1 0.5 0.9 8.1 9.5 8.5 1.9 7.4]\n",
            " [0.7 1.1 0.4 0.4 2.2 9.3 3.4 1.1 0.5 1.6]\n",
            " [0.5 2.1 0.4 0.6 4.9 8.6 0.8 0.5 0.2 0.6]]\n"
          ]
        }
      ]
    },
    {
      "cell_type": "code",
      "source": [
        "#find new user rating where all values are missing for ratings\n",
        "new_user_ratings = np.zeros((1, 10))\n",
        "print(new_user_ratings)\n",
        "latent_feature_new = np.dot(new_user_ratings, Vt_items.T)\n",
        "predicted_svd_new_user = np.dot(latent_feature_new, Vt_items)\n",
        "\n",
        "print(\"Predicted ratings for the new user (SVD):\")\n",
        "print(predicted_svd_new_user)\n",
        "predicted_ae_new_user = autoencoder.predict(new_user_ratings)\n",
        "\n",
        "print(\"Predicted ratings for the new user (Autoencoder):\")\n",
        "print(predicted_ae_new_user)\n"
      ],
      "metadata": {
        "colab": {
          "base_uri": "https://localhost:8080/"
        },
        "id": "iwAPYgWPQjmB",
        "outputId": "e90e55ec-8337-4d3a-9a1c-0847ab6b2279"
      },
      "execution_count": 56,
      "outputs": [
        {
          "output_type": "stream",
          "name": "stdout",
          "text": [
            "[[0. 0. 0. 0. 0. 0. 0. 0. 0. 0.]]\n",
            "Predicted ratings for the new user (SVD):\n",
            "[[0. 0. 0. 0. 0. 0. 0. 0. 0. 0.]]\n",
            "\u001b[1m1/1\u001b[0m \u001b[32m━━━━━━━━━━━━━━━━━━━━\u001b[0m\u001b[37m\u001b[0m \u001b[1m0s\u001b[0m 21ms/step\n",
            "Predicted ratings for the new user (Autoencoder):\n",
            "[[0.04385865 0.22426341 0.18491752 0.12395512 0.5133232  0.51758754\n",
            "  0.22713345 0.11031058 0.05107613 0.080647  ]]\n"
          ]
        }
      ]
    }
  ],
  "metadata": {
    "colab": {
      "provenance": []
    },
    "kernelspec": {
      "display_name": "Python 3",
      "name": "python3"
    },
    "language_info": {
      "name": "python"
    }
  },
  "nbformat": 4,
  "nbformat_minor": 0
}